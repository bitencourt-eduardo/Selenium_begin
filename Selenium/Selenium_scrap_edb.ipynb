{
 "cells": [
  {
   "cell_type": "code",
   "execution_count": 64,
   "metadata": {},
   "outputs": [
    {
     "name": "stdout",
     "output_type": "stream",
     "text": [
      "Requirement already satisfied: selenium in /Library/Frameworks/Python.framework/Versions/3.10/lib/python3.10/site-packages (4.8.0)\n",
      "Requirement already satisfied: trio~=0.17 in /Library/Frameworks/Python.framework/Versions/3.10/lib/python3.10/site-packages (from selenium) (0.22.0)\n",
      "Requirement already satisfied: urllib3[socks]~=1.26 in /Library/Frameworks/Python.framework/Versions/3.10/lib/python3.10/site-packages (from selenium) (1.26.14)\n",
      "Requirement already satisfied: trio-websocket~=0.9 in /Library/Frameworks/Python.framework/Versions/3.10/lib/python3.10/site-packages (from selenium) (0.9.2)\n",
      "Requirement already satisfied: certifi>=2021.10.8 in /Library/Frameworks/Python.framework/Versions/3.10/lib/python3.10/site-packages (from selenium) (2022.12.7)\n",
      "Requirement already satisfied: idna in /Library/Frameworks/Python.framework/Versions/3.10/lib/python3.10/site-packages (from trio~=0.17->selenium) (3.4)\n",
      "Requirement already satisfied: sortedcontainers in /Library/Frameworks/Python.framework/Versions/3.10/lib/python3.10/site-packages (from trio~=0.17->selenium) (2.4.0)\n",
      "Requirement already satisfied: sniffio in /Library/Frameworks/Python.framework/Versions/3.10/lib/python3.10/site-packages (from trio~=0.17->selenium) (1.3.0)\n",
      "Requirement already satisfied: outcome in /Library/Frameworks/Python.framework/Versions/3.10/lib/python3.10/site-packages (from trio~=0.17->selenium) (1.2.0)\n",
      "Requirement already satisfied: attrs>=19.2.0 in /Library/Frameworks/Python.framework/Versions/3.10/lib/python3.10/site-packages (from trio~=0.17->selenium) (21.4.0)\n",
      "Requirement already satisfied: exceptiongroup>=1.0.0rc9 in /Library/Frameworks/Python.framework/Versions/3.10/lib/python3.10/site-packages (from trio~=0.17->selenium) (1.1.0)\n",
      "Requirement already satisfied: async-generator>=1.9 in /Library/Frameworks/Python.framework/Versions/3.10/lib/python3.10/site-packages (from trio~=0.17->selenium) (1.10)\n",
      "Requirement already satisfied: wsproto>=0.14 in /Library/Frameworks/Python.framework/Versions/3.10/lib/python3.10/site-packages (from trio-websocket~=0.9->selenium) (1.2.0)\n",
      "Requirement already satisfied: PySocks!=1.5.7,<2.0,>=1.5.6 in /Library/Frameworks/Python.framework/Versions/3.10/lib/python3.10/site-packages (from urllib3[socks]~=1.26->selenium) (1.7.1)\n",
      "Requirement already satisfied: h11<1,>=0.9.0 in /Library/Frameworks/Python.framework/Versions/3.10/lib/python3.10/site-packages (from wsproto>=0.14->trio-websocket~=0.9->selenium) (0.14.0)\n"
     ]
    }
   ],
   "source": [
    "## Instalação Selenium\n",
    "\n",
    "!pip install selenium"
   ]
  },
  {
   "cell_type": "code",
   "execution_count": 65,
   "metadata": {},
   "outputs": [],
   "source": [
    "## Importação de bibliotecas\n",
    "\n",
    "import pandas as pd\n",
    "import time\n",
    "from selenium import webdriver\n",
    "from selenium.webdriver.chrome.options import Options\n",
    "from selenium.webdriver.common.by import By"
   ]
  },
  {
   "cell_type": "code",
   "execution_count": 66,
   "metadata": {},
   "outputs": [],
   "source": [
    "## Definição de Janela Desktop\n",
    "\n",
    "chrome_options = Options()\n",
    "chrome_options.add_argument(\"--incognito\")\n",
    "chrome_options.add_argument(\"--window--size=1920x1080\")"
   ]
  },
  {
   "cell_type": "code",
   "execution_count": 67,
   "metadata": {},
   "outputs": [
    {
     "name": "stderr",
     "output_type": "stream",
     "text": [
      "/var/folders/63/mpjz9m0d1dd79sh5p4n2qd6c0000gp/T/ipykernel_22820/3486159381.py:4: DeprecationWarning: use options instead of chrome_options\n",
      "  driver = webdriver.Chrome(chrome_options=chrome_options)\n"
     ]
    }
   ],
   "source": [
    "## Necessário realizar download do webdriver em:\n",
    "## https://www.selenium.dev/documentation/webdriver/getting_started/install_drivers/\n",
    "\n",
    "driver = webdriver.Chrome(chrome_options=chrome_options)"
   ]
  },
  {
   "cell_type": "code",
   "execution_count": 68,
   "metadata": {},
   "outputs": [],
   "source": [
    "url = 'https://kabum.com.br/'\n",
    "driver.get(url)\n",
    "time.sleep(2)"
   ]
  },
  {
   "cell_type": "code",
   "execution_count": 69,
   "metadata": {},
   "outputs": [],
   "source": [
    "input_search = driver.find_element(\"xpath\",'//*[@id=\"input-busca\"]')"
   ]
  },
  {
   "cell_type": "code",
   "execution_count": 70,
   "metadata": {},
   "outputs": [],
   "source": [
    "\n",
    "input_search = driver.find_element(by=By.XPATH, value='//*[@id=\"input-busca\"]')"
   ]
  },
  {
   "cell_type": "code",
   "execution_count": 71,
   "metadata": {},
   "outputs": [
    {
     "data": {
      "text/plain": [
       "<selenium.webdriver.remote.webelement.WebElement (session=\"62193e36852bd783ce2fe264d8e5be7f\", element=\"8e40ec3f-cd37-40e4-8f5d-8b9da3be60ab\")>"
      ]
     },
     "execution_count": 71,
     "metadata": {},
     "output_type": "execute_result"
    }
   ],
   "source": [
    "input_search"
   ]
  },
  {
   "cell_type": "code",
   "execution_count": 72,
   "metadata": {},
   "outputs": [],
   "source": [
    "## Enviar texto (send_keys)\n",
    "\n",
    "input_search.send_keys('processadores')"
   ]
  },
  {
   "cell_type": "code",
   "execution_count": 73,
   "metadata": {},
   "outputs": [],
   "source": [
    "## Encontrar Botão de Buscar e Clica\n",
    "\n",
    "buttom_search = driver.find_element(by=By.XPATH, value = '//*[@id=\"barraBuscaKabum\"]/div/form/button')\n",
    "buttom_search.click()"
   ]
  },
  {
   "cell_type": "code",
   "execution_count": 74,
   "metadata": {},
   "outputs": [],
   "source": [
    "main_element = driver.find_element(by=By.XPATH, value ='//*[@id=\"listing\"]/div[3]/div/div[2]/div/main')"
   ]
  },
  {
   "cell_type": "code",
   "execution_count": 75,
   "metadata": {},
   "outputs": [],
   "source": [
    "product_title = main_element.find_element(by=By.CSS_SELECTOR, value= '#listing > div.sc-bcXHqe.sc-95e3e8ee-2.dkkPAx.gQftMu > div > div.sc-dkrFOg.ivhwzo > div.sc-1fc62739-0.fIowOV > main > div:nth-child(1) > a > div > button > div > h2 > span').text"
   ]
  },
  {
   "cell_type": "code",
   "execution_count": 76,
   "metadata": {},
   "outputs": [
    {
     "data": {
      "text/plain": [
       "'Processador AMD Ryzen 5 4600G, 3.7GHz (4.2GHz Max Turbo), Cache 11MB, AM4, Vídeo Integrado - 100-100000147BOX'"
      ]
     },
     "execution_count": 76,
     "metadata": {},
     "output_type": "execute_result"
    }
   ],
   "source": [
    "product_title"
   ]
  },
  {
   "cell_type": "code",
   "execution_count": 77,
   "metadata": {},
   "outputs": [
    {
     "data": {
      "text/plain": [
       "'R$ 619,99'"
      ]
     },
     "execution_count": 77,
     "metadata": {},
     "output_type": "execute_result"
    }
   ],
   "source": [
    "product_valor = main_element.find_element (by=By.CSS_SELECTOR, value='#listing > div.sc-bcXHqe.sc-95e3e8ee-2.dkkPAx.gQftMu > div > div.sc-dkrFOg.ivhwzo > div.sc-1fc62739-0.fIowOV > main > div:nth-child(1) > a > div > div.sc-3b515ca1-0.dEvMhq.availablePricesCard > span.sc-3b515ca1-2.eqqhbT.priceCard').text\n",
    "product_valor"
   ]
  },
  {
   "attachments": {},
   "cell_type": "markdown",
   "metadata": {},
   "source": [
    "# Pegando todos os preços de uma Busca"
   ]
  },
  {
   "cell_type": "code",
   "execution_count": 78,
   "metadata": {},
   "outputs": [],
   "source": [
    "title_results = main_element.find_elements(by=By.CSS_SELECTOR, value = '.nameCard')"
   ]
  },
  {
   "cell_type": "code",
   "execution_count": 80,
   "metadata": {},
   "outputs": [],
   "source": [
    "result = []\n",
    "for title in title_results:\n",
    "    result.append(title.text)"
   ]
  },
  {
   "cell_type": "code",
   "execution_count": 81,
   "metadata": {},
   "outputs": [
    {
     "data": {
      "text/plain": [
       "['Processador AMD Ryzen 5 4600G, 3.7GHz (4.2GHz Max Turbo), Cache 11MB, AM4, Vídeo Integrado - 100-100000147BOX',\n",
       " 'Cooler para Processador Rise Mode Z2, AMD/Intel, Preto - RM-ACZ-02-BO',\n",
       " 'Processador AMD Ryzen 7 5700X, 3.4GHz (4.6GHz Max Turbo), Cache 36MB, AM4, Sem Vídeo - 100-100000926WOF',\n",
       " 'Smart TV Samsung 43 Polegadas UHD 4K, 3 HDMI, 1 USB, Processador Crystal 4K, Tela sem limites, Alexa, Controle Único - UN43AU7700GXZD',\n",
       " 'Processador Intel Core i5-10400F, 2.9GHz (4.3GHz Max Turbo), Cache 12MB, 6 Núcleos, 12 Threads, LGA 1200 - BX8070110400F',\n",
       " 'Processador AMD Ryzen 5 4500, 3.6GHz (4.1GHz Max Turbo) Cache 11MB, AM4, Sem Vídeo - 100-100000644BOX',\n",
       " 'Processador AMD Ryzen 5 5600, 3.5GHz (4.4GHz Max Turbo), Cache 35MB, AM4, Sem Vídeo - 100-100000927BOX',\n",
       " 'Processador AMD Ryzen 5 5600X, 3.7GHz (4.6GHz Max Turbo), Cache 35MB, 6 Núcleos, 12 Threads, AM4 - 100-100000065BOX',\n",
       " 'Processador AMD Ryzen 5 5500, 3.6GHz (4.2GHz Max Turbo), Cache 19MB, AM4, Sem Vídeo - 100-100000457BOX',\n",
       " 'Processador Intel Core i3-10105, 3.7GHz (4.4GHz Max Turbo), Cache 6MB, Quad Core, 8 Threads, LGA 1200, Vídeo Integrado - BX8070110105',\n",
       " 'Cooler para Processador Rise Mode Winter, 120mm, ARGB, Intel e AMD, Preto - RM-ACW-01-ARGB',\n",
       " 'Cooler para Processador Gamer Rise Mode X5, LED Rainbow, Intel e AMD, Preto - RM-ACX-05-RGB',\n",
       " 'Processador AMD Ryzen 5 5600G, 3.9GHz (4.4GHz Max Turbo), Cache 19MB, 6 Núcleos, 12 Threads, Vídeo Integrado, AM4 - 100-100000252BOX',\n",
       " 'Smart TV Samsung 55 Polegadas 4K QLED, 4 HDMI, Processador IA, HDR10+, Tela Infinita, Alexa Built In - QN55Q80AAGXZD',\n",
       " 'Processador Intel Core i5-11400F, 2.6 GHz (4.4GHz Turbo), Cache 12MB, 6 Núcleos, 12 Threads, LGA1200 - BX8070811400F',\n",
       " 'Rack Titanium Profissional Djs Rt90g Para Periféricos, Mesas De Som, Amplificadores E Processadores De Audio',\n",
       " 'Processador AMD Ryzen 7 5700G, 3.8GHz (4.6GHz Max Turbo), Cache 20MB, 8 Núcleos, 16 Threads, Vídeo Integrado, AM4 - 100-100000263BOX',\n",
       " 'Processador Intel Core i5-12400F, 2.5GHz (4.4GHz Max Turbo), Cache 18MB, LGA 1700 - BX8071512400F',\n",
       " 'Processador Intel Core i5-10400, 2.9GHz (4.3GHz Max Turbo), Cache 12MB, LGA 1200 - BX8070110400',\n",
       " 'Cooler para Processador Rise Mode Z3, AMD/Intel - RM-ACZ-03-FB']"
      ]
     },
     "execution_count": 81,
     "metadata": {},
     "output_type": "execute_result"
    }
   ],
   "source": [
    "result"
   ]
  },
  {
   "cell_type": "code",
   "execution_count": 83,
   "metadata": {},
   "outputs": [
    {
     "data": {
      "text/plain": [
       "['Processador AMD Ryzen 5 4600G, 3.7GHz (4.2GHz Max Turbo), Cache 11MB, AM4, Vídeo Integrado - 100-100000147BOX',\n",
       " 'Cooler para Processador Rise Mode Z2, AMD/Intel, Preto - RM-ACZ-02-BO',\n",
       " 'Processador AMD Ryzen 7 5700X, 3.4GHz (4.6GHz Max Turbo), Cache 36MB, AM4, Sem Vídeo - 100-100000926WOF',\n",
       " 'Smart TV Samsung 43 Polegadas UHD 4K, 3 HDMI, 1 USB, Processador Crystal 4K, Tela sem limites, Alexa, Controle Único - UN43AU7700GXZD',\n",
       " 'Processador Intel Core i5-10400F, 2.9GHz (4.3GHz Max Turbo), Cache 12MB, 6 Núcleos, 12 Threads, LGA 1200 - BX8070110400F',\n",
       " 'Processador AMD Ryzen 5 4500, 3.6GHz (4.1GHz Max Turbo) Cache 11MB, AM4, Sem Vídeo - 100-100000644BOX',\n",
       " 'Processador AMD Ryzen 5 5600, 3.5GHz (4.4GHz Max Turbo), Cache 35MB, AM4, Sem Vídeo - 100-100000927BOX',\n",
       " 'Processador AMD Ryzen 5 5600X, 3.7GHz (4.6GHz Max Turbo), Cache 35MB, 6 Núcleos, 12 Threads, AM4 - 100-100000065BOX',\n",
       " 'Processador AMD Ryzen 5 5500, 3.6GHz (4.2GHz Max Turbo), Cache 19MB, AM4, Sem Vídeo - 100-100000457BOX',\n",
       " 'Processador Intel Core i3-10105, 3.7GHz (4.4GHz Max Turbo), Cache 6MB, Quad Core, 8 Threads, LGA 1200, Vídeo Integrado - BX8070110105',\n",
       " 'Cooler para Processador Rise Mode Winter, 120mm, ARGB, Intel e AMD, Preto - RM-ACW-01-ARGB',\n",
       " 'Cooler para Processador Gamer Rise Mode X5, LED Rainbow, Intel e AMD, Preto - RM-ACX-05-RGB',\n",
       " 'Processador AMD Ryzen 5 5600G, 3.9GHz (4.4GHz Max Turbo), Cache 19MB, 6 Núcleos, 12 Threads, Vídeo Integrado, AM4 - 100-100000252BOX',\n",
       " 'Smart TV Samsung 55 Polegadas 4K QLED, 4 HDMI, Processador IA, HDR10+, Tela Infinita, Alexa Built In - QN55Q80AAGXZD',\n",
       " 'Processador Intel Core i5-11400F, 2.6 GHz (4.4GHz Turbo), Cache 12MB, 6 Núcleos, 12 Threads, LGA1200 - BX8070811400F',\n",
       " 'Rack Titanium Profissional Djs Rt90g Para Periféricos, Mesas De Som, Amplificadores E Processadores De Audio',\n",
       " 'Processador AMD Ryzen 7 5700G, 3.8GHz (4.6GHz Max Turbo), Cache 20MB, 8 Núcleos, 16 Threads, Vídeo Integrado, AM4 - 100-100000263BOX',\n",
       " 'Processador Intel Core i5-12400F, 2.5GHz (4.4GHz Max Turbo), Cache 18MB, LGA 1700 - BX8071512400F',\n",
       " 'Processador Intel Core i5-10400, 2.9GHz (4.3GHz Max Turbo), Cache 12MB, LGA 1200 - BX8070110400',\n",
       " 'Cooler para Processador Rise Mode Z3, AMD/Intel - RM-ACZ-03-FB']"
      ]
     },
     "execution_count": 83,
     "metadata": {},
     "output_type": "execute_result"
    }
   ],
   "source": [
    "product_list = [title.text for title in title_results ]\n",
    "product_list"
   ]
  },
  {
   "cell_type": "code",
   "execution_count": 85,
   "metadata": {},
   "outputs": [],
   "source": [
    "price_results = main_element.find_elements(by=By.CSS_SELECTOR, value = '.priceCard')\n",
    "price_list = [price.text for price in price_results]"
   ]
  },
  {
   "cell_type": "code",
   "execution_count": 86,
   "metadata": {},
   "outputs": [
    {
     "data": {
      "text/plain": [
       "['R$ 619,99',\n",
       " 'R$ 29,99',\n",
       " 'R$ 1.329,99',\n",
       " 'R$ 2.999,99',\n",
       " 'R$ 959,99',\n",
       " 'R$ 499,99',\n",
       " 'R$ 969,99',\n",
       " 'R$ 1.169,99',\n",
       " 'R$ 649,99',\n",
       " 'R$ 688,99',\n",
       " 'R$ 269,99',\n",
       " 'R$ 69,99',\n",
       " 'R$ 949,99',\n",
       " 'R$ 3.899,99',\n",
       " 'R$ 849,99',\n",
       " 'R$ 2.748,64',\n",
       " 'R$ 1.389,99',\n",
       " 'R$ 1.249,99',\n",
       " 'R$ 949,99',\n",
       " 'R$ 109,99']"
      ]
     },
     "execution_count": 86,
     "metadata": {},
     "output_type": "execute_result"
    }
   ],
   "source": [
    "price_list"
   ]
  },
  {
   "cell_type": "code",
   "execution_count": 89,
   "metadata": {},
   "outputs": [],
   "source": [
    "df = pd.DataFrame({'produto':product_list, 'preco':price_list})"
   ]
  },
  {
   "cell_type": "code",
   "execution_count": 90,
   "metadata": {},
   "outputs": [
    {
     "data": {
      "text/html": [
       "<div>\n",
       "<style scoped>\n",
       "    .dataframe tbody tr th:only-of-type {\n",
       "        vertical-align: middle;\n",
       "    }\n",
       "\n",
       "    .dataframe tbody tr th {\n",
       "        vertical-align: top;\n",
       "    }\n",
       "\n",
       "    .dataframe thead th {\n",
       "        text-align: right;\n",
       "    }\n",
       "</style>\n",
       "<table border=\"1\" class=\"dataframe\">\n",
       "  <thead>\n",
       "    <tr style=\"text-align: right;\">\n",
       "      <th></th>\n",
       "      <th>produto</th>\n",
       "      <th>preco</th>\n",
       "    </tr>\n",
       "  </thead>\n",
       "  <tbody>\n",
       "    <tr>\n",
       "      <th>0</th>\n",
       "      <td>Processador AMD Ryzen 5 4600G, 3.7GHz (4.2GHz ...</td>\n",
       "      <td>R$ 619,99</td>\n",
       "    </tr>\n",
       "    <tr>\n",
       "      <th>1</th>\n",
       "      <td>Cooler para Processador Rise Mode Z2, AMD/Inte...</td>\n",
       "      <td>R$ 29,99</td>\n",
       "    </tr>\n",
       "    <tr>\n",
       "      <th>2</th>\n",
       "      <td>Processador AMD Ryzen 7 5700X, 3.4GHz (4.6GHz ...</td>\n",
       "      <td>R$ 1.329,99</td>\n",
       "    </tr>\n",
       "    <tr>\n",
       "      <th>3</th>\n",
       "      <td>Smart TV Samsung 43 Polegadas UHD 4K, 3 HDMI, ...</td>\n",
       "      <td>R$ 2.999,99</td>\n",
       "    </tr>\n",
       "    <tr>\n",
       "      <th>4</th>\n",
       "      <td>Processador Intel Core i5-10400F, 2.9GHz (4.3G...</td>\n",
       "      <td>R$ 959,99</td>\n",
       "    </tr>\n",
       "    <tr>\n",
       "      <th>5</th>\n",
       "      <td>Processador AMD Ryzen 5 4500, 3.6GHz (4.1GHz M...</td>\n",
       "      <td>R$ 499,99</td>\n",
       "    </tr>\n",
       "    <tr>\n",
       "      <th>6</th>\n",
       "      <td>Processador AMD Ryzen 5 5600, 3.5GHz (4.4GHz M...</td>\n",
       "      <td>R$ 969,99</td>\n",
       "    </tr>\n",
       "    <tr>\n",
       "      <th>7</th>\n",
       "      <td>Processador AMD Ryzen 5 5600X, 3.7GHz (4.6GHz ...</td>\n",
       "      <td>R$ 1.169,99</td>\n",
       "    </tr>\n",
       "    <tr>\n",
       "      <th>8</th>\n",
       "      <td>Processador AMD Ryzen 5 5500, 3.6GHz (4.2GHz M...</td>\n",
       "      <td>R$ 649,99</td>\n",
       "    </tr>\n",
       "    <tr>\n",
       "      <th>9</th>\n",
       "      <td>Processador Intel Core i3-10105, 3.7GHz (4.4GH...</td>\n",
       "      <td>R$ 688,99</td>\n",
       "    </tr>\n",
       "    <tr>\n",
       "      <th>10</th>\n",
       "      <td>Cooler para Processador Rise Mode Winter, 120m...</td>\n",
       "      <td>R$ 269,99</td>\n",
       "    </tr>\n",
       "    <tr>\n",
       "      <th>11</th>\n",
       "      <td>Cooler para Processador Gamer Rise Mode X5, LE...</td>\n",
       "      <td>R$ 69,99</td>\n",
       "    </tr>\n",
       "    <tr>\n",
       "      <th>12</th>\n",
       "      <td>Processador AMD Ryzen 5 5600G, 3.9GHz (4.4GHz ...</td>\n",
       "      <td>R$ 949,99</td>\n",
       "    </tr>\n",
       "    <tr>\n",
       "      <th>13</th>\n",
       "      <td>Smart TV Samsung 55 Polegadas 4K QLED, 4 HDMI,...</td>\n",
       "      <td>R$ 3.899,99</td>\n",
       "    </tr>\n",
       "    <tr>\n",
       "      <th>14</th>\n",
       "      <td>Processador Intel Core i5-11400F, 2.6 GHz (4.4...</td>\n",
       "      <td>R$ 849,99</td>\n",
       "    </tr>\n",
       "    <tr>\n",
       "      <th>15</th>\n",
       "      <td>Rack Titanium Profissional Djs Rt90g Para Peri...</td>\n",
       "      <td>R$ 2.748,64</td>\n",
       "    </tr>\n",
       "    <tr>\n",
       "      <th>16</th>\n",
       "      <td>Processador AMD Ryzen 7 5700G, 3.8GHz (4.6GHz ...</td>\n",
       "      <td>R$ 1.389,99</td>\n",
       "    </tr>\n",
       "    <tr>\n",
       "      <th>17</th>\n",
       "      <td>Processador Intel Core i5-12400F, 2.5GHz (4.4G...</td>\n",
       "      <td>R$ 1.249,99</td>\n",
       "    </tr>\n",
       "    <tr>\n",
       "      <th>18</th>\n",
       "      <td>Processador Intel Core i5-10400, 2.9GHz (4.3GH...</td>\n",
       "      <td>R$ 949,99</td>\n",
       "    </tr>\n",
       "    <tr>\n",
       "      <th>19</th>\n",
       "      <td>Cooler para Processador Rise Mode Z3, AMD/Inte...</td>\n",
       "      <td>R$ 109,99</td>\n",
       "    </tr>\n",
       "  </tbody>\n",
       "</table>\n",
       "</div>"
      ],
      "text/plain": [
       "                                              produto        preco\n",
       "0   Processador AMD Ryzen 5 4600G, 3.7GHz (4.2GHz ...    R$ 619,99\n",
       "1   Cooler para Processador Rise Mode Z2, AMD/Inte...     R$ 29,99\n",
       "2   Processador AMD Ryzen 7 5700X, 3.4GHz (4.6GHz ...  R$ 1.329,99\n",
       "3   Smart TV Samsung 43 Polegadas UHD 4K, 3 HDMI, ...  R$ 2.999,99\n",
       "4   Processador Intel Core i5-10400F, 2.9GHz (4.3G...    R$ 959,99\n",
       "5   Processador AMD Ryzen 5 4500, 3.6GHz (4.1GHz M...    R$ 499,99\n",
       "6   Processador AMD Ryzen 5 5600, 3.5GHz (4.4GHz M...    R$ 969,99\n",
       "7   Processador AMD Ryzen 5 5600X, 3.7GHz (4.6GHz ...  R$ 1.169,99\n",
       "8   Processador AMD Ryzen 5 5500, 3.6GHz (4.2GHz M...    R$ 649,99\n",
       "9   Processador Intel Core i3-10105, 3.7GHz (4.4GH...    R$ 688,99\n",
       "10  Cooler para Processador Rise Mode Winter, 120m...    R$ 269,99\n",
       "11  Cooler para Processador Gamer Rise Mode X5, LE...     R$ 69,99\n",
       "12  Processador AMD Ryzen 5 5600G, 3.9GHz (4.4GHz ...    R$ 949,99\n",
       "13  Smart TV Samsung 55 Polegadas 4K QLED, 4 HDMI,...  R$ 3.899,99\n",
       "14  Processador Intel Core i5-11400F, 2.6 GHz (4.4...    R$ 849,99\n",
       "15  Rack Titanium Profissional Djs Rt90g Para Peri...  R$ 2.748,64\n",
       "16  Processador AMD Ryzen 7 5700G, 3.8GHz (4.6GHz ...  R$ 1.389,99\n",
       "17  Processador Intel Core i5-12400F, 2.5GHz (4.4G...  R$ 1.249,99\n",
       "18  Processador Intel Core i5-10400, 2.9GHz (4.3GH...    R$ 949,99\n",
       "19  Cooler para Processador Rise Mode Z3, AMD/Inte...    R$ 109,99"
      ]
     },
     "execution_count": 90,
     "metadata": {},
     "output_type": "execute_result"
    }
   ],
   "source": [
    "df"
   ]
  },
  {
   "cell_type": "code",
   "execution_count": 92,
   "metadata": {},
   "outputs": [],
   "source": [
    "df.to_csv(\"coleta_kabum.csv\")"
   ]
  },
  {
   "cell_type": "code",
   "execution_count": 88,
   "metadata": {},
   "outputs": [],
   "source": [
    "driver.quit()"
   ]
  }
 ],
 "metadata": {
  "kernelspec": {
   "display_name": "Python 3",
   "language": "python",
   "name": "python3"
  },
  "language_info": {
   "codemirror_mode": {
    "name": "ipython",
    "version": 3
   },
   "file_extension": ".py",
   "mimetype": "text/x-python",
   "name": "python",
   "nbconvert_exporter": "python",
   "pygments_lexer": "ipython3",
   "version": "3.10.5"
  },
  "orig_nbformat": 4,
  "vscode": {
   "interpreter": {
    "hash": "aee8b7b246df8f9039afb4144a1f6fd8d2ca17a180786b69acc140d282b71a49"
   }
  }
 },
 "nbformat": 4,
 "nbformat_minor": 2
}
