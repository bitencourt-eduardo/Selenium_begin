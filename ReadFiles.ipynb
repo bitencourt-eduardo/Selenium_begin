{
 "cells": [
  {
   "cell_type": "code",
   "execution_count": 12,
   "metadata": {},
   "outputs": [],
   "source": [
    "import pandas as pd\n",
    "import numpy as np"
   ]
  },
  {
   "attachments": {},
   "cell_type": "markdown",
   "metadata": {},
   "source": [
    "# Caminhos\n",
    "\n",
    "Temos diferentes formas de acessar um arquivo. Para isto precisamos especificar o caminho até o mesmo:\n",
    "\n",
    "```python\n",
    "documents/folder/arquivo # caminho absoluto\n",
    "\n",
    "# caminhos relativos\n",
    "./ # pasta atual\n",
    "../ # pantas anterior\n",
    "```\n",
    "\n"
   ]
  },
  {
   "cell_type": "code",
   "execution_count": 13,
   "metadata": {},
   "outputs": [
    {
     "name": "stdout",
     "output_type": "stream",
     "text": [
      "/Users/Eduardo/Documents/GitHub/Selenium_begin\n"
     ]
    }
   ],
   "source": [
    "## Caminho Absoluto Atual\n",
    "\n",
    "!pwd"
   ]
  },
  {
   "cell_type": "code",
   "execution_count": 14,
   "metadata": {},
   "outputs": [
    {
     "name": "stdout",
     "output_type": "stream",
     "text": [
      "README.md       csv_file.csv    text_file.txt\n",
      "ReadFiles.ipynb image_file.jpg  xlsx_file.xlsx\n"
     ]
    }
   ],
   "source": [
    "# Lista de arquivos do diretório atual\n",
    "!ls"
   ]
  },
  {
   "cell_type": "code",
   "execution_count": 15,
   "metadata": {},
   "outputs": [],
   "source": [
    "caminho_base = './{name_file}'"
   ]
  },
  {
   "cell_type": "code",
   "execution_count": 16,
   "metadata": {},
   "outputs": [
    {
     "data": {
      "text/html": [
       "<div>\n",
       "<style scoped>\n",
       "    .dataframe tbody tr th:only-of-type {\n",
       "        vertical-align: middle;\n",
       "    }\n",
       "\n",
       "    .dataframe tbody tr th {\n",
       "        vertical-align: top;\n",
       "    }\n",
       "\n",
       "    .dataframe thead th {\n",
       "        text-align: right;\n",
       "    }\n",
       "</style>\n",
       "<table border=\"1\" class=\"dataframe\">\n",
       "  <thead>\n",
       "    <tr style=\"text-align: right;\">\n",
       "      <th></th>\n",
       "      <th>Unnamed: 0</th>\n",
       "      <th>A</th>\n",
       "      <th>B</th>\n",
       "      <th>C</th>\n",
       "      <th>S</th>\n",
       "    </tr>\n",
       "  </thead>\n",
       "  <tbody>\n",
       "    <tr>\n",
       "      <th>0</th>\n",
       "      <td>0</td>\n",
       "      <td>-0.498424</td>\n",
       "      <td>-0.237788</td>\n",
       "      <td>0.361243</td>\n",
       "      <td>-1.593696</td>\n",
       "    </tr>\n",
       "    <tr>\n",
       "      <th>1</th>\n",
       "      <td>1</td>\n",
       "      <td>1.508797</td>\n",
       "      <td>-0.811154</td>\n",
       "      <td>-0.087326</td>\n",
       "      <td>0.266954</td>\n",
       "    </tr>\n",
       "    <tr>\n",
       "      <th>2</th>\n",
       "      <td>2</td>\n",
       "      <td>-0.048835</td>\n",
       "      <td>-0.716396</td>\n",
       "      <td>1.390434</td>\n",
       "      <td>1.033697</td>\n",
       "    </tr>\n",
       "    <tr>\n",
       "      <th>3</th>\n",
       "      <td>3</td>\n",
       "      <td>1.612167</td>\n",
       "      <td>0.763239</td>\n",
       "      <td>0.795475</td>\n",
       "      <td>1.740662</td>\n",
       "    </tr>\n",
       "    <tr>\n",
       "      <th>4</th>\n",
       "      <td>4</td>\n",
       "      <td>0.544064</td>\n",
       "      <td>0.478649</td>\n",
       "      <td>-0.817163</td>\n",
       "      <td>-0.229374</td>\n",
       "    </tr>\n",
       "    <tr>\n",
       "      <th>...</th>\n",
       "      <td>...</td>\n",
       "      <td>...</td>\n",
       "      <td>...</td>\n",
       "      <td>...</td>\n",
       "      <td>...</td>\n",
       "    </tr>\n",
       "    <tr>\n",
       "      <th>95</th>\n",
       "      <td>95</td>\n",
       "      <td>-2.259991</td>\n",
       "      <td>-1.593170</td>\n",
       "      <td>-0.026653</td>\n",
       "      <td>0.307549</td>\n",
       "    </tr>\n",
       "    <tr>\n",
       "      <th>96</th>\n",
       "      <td>96</td>\n",
       "      <td>1.100840</td>\n",
       "      <td>1.460318</td>\n",
       "      <td>-1.397809</td>\n",
       "      <td>-1.460254</td>\n",
       "    </tr>\n",
       "    <tr>\n",
       "      <th>97</th>\n",
       "      <td>97</td>\n",
       "      <td>-0.658386</td>\n",
       "      <td>-0.203899</td>\n",
       "      <td>1.398444</td>\n",
       "      <td>-0.532728</td>\n",
       "    </tr>\n",
       "    <tr>\n",
       "      <th>98</th>\n",
       "      <td>98</td>\n",
       "      <td>0.415116</td>\n",
       "      <td>-0.214596</td>\n",
       "      <td>-0.388987</td>\n",
       "      <td>0.344941</td>\n",
       "    </tr>\n",
       "    <tr>\n",
       "      <th>99</th>\n",
       "      <td>99</td>\n",
       "      <td>-1.112706</td>\n",
       "      <td>0.492112</td>\n",
       "      <td>-0.716792</td>\n",
       "      <td>1.032087</td>\n",
       "    </tr>\n",
       "  </tbody>\n",
       "</table>\n",
       "<p>100 rows × 5 columns</p>\n",
       "</div>"
      ],
      "text/plain": [
       "    Unnamed: 0         A         B         C         S\n",
       "0            0 -0.498424 -0.237788  0.361243 -1.593696\n",
       "1            1  1.508797 -0.811154 -0.087326  0.266954\n",
       "2            2 -0.048835 -0.716396  1.390434  1.033697\n",
       "3            3  1.612167  0.763239  0.795475  1.740662\n",
       "4            4  0.544064  0.478649 -0.817163 -0.229374\n",
       "..         ...       ...       ...       ...       ...\n",
       "95          95 -2.259991 -1.593170 -0.026653  0.307549\n",
       "96          96  1.100840  1.460318 -1.397809 -1.460254\n",
       "97          97 -0.658386 -0.203899  1.398444 -0.532728\n",
       "98          98  0.415116 -0.214596 -0.388987  0.344941\n",
       "99          99 -1.112706  0.492112 -0.716792  1.032087\n",
       "\n",
       "[100 rows x 5 columns]"
      ]
     },
     "execution_count": 16,
     "metadata": {},
     "output_type": "execute_result"
    }
   ],
   "source": [
    "## Leitura csv\n",
    "# Doc read_csv - https://pandas.pydata.org/docs/reference/api/pandas.read_csv.html\n",
    "name_file = 'csv_file.csv'\n",
    "pd.read_csv(caminho_base.format(name_file=name_file), sep=',', decimal='.' )"
   ]
  }
 ],
 "metadata": {
  "kernelspec": {
   "display_name": "Python 3.10.5 64-bit",
   "language": "python",
   "name": "python3"
  },
  "language_info": {
   "codemirror_mode": {
    "name": "ipython",
    "version": 3
   },
   "file_extension": ".py",
   "mimetype": "text/x-python",
   "name": "python",
   "nbconvert_exporter": "python",
   "pygments_lexer": "ipython3",
   "version": "3.10.5"
  },
  "orig_nbformat": 4,
  "vscode": {
   "interpreter": {
    "hash": "aee8b7b246df8f9039afb4144a1f6fd8d2ca17a180786b69acc140d282b71a49"
   }
  }
 },
 "nbformat": 4,
 "nbformat_minor": 2
}
